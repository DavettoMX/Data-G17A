{
  "cells": [
    {
      "cell_type": "markdown",
      "metadata": {
        "id": "ms9SLG9zRMi5"
      },
      "source": [
        "Crear las siguientes variables.\n",
        "\n",
        "* Una variable donde asignes el nombre de una película\n",
        "* Una variable que contenga los primeros 4 decimales de PI\n",
        "* Una variable que contenga la cantidad de mascotas que tienes"
      ]
    },
    {
      "cell_type": "code",
      "execution_count": 1,
      "metadata": {
        "id": "HXryfKdpRsvT"
      },
      "outputs": [],
      "source": [
        "pelicula = 'Star Wars'"
      ]
    },
    {
      "cell_type": "code",
      "execution_count": 2,
      "metadata": {
        "id": "Da31UjXVRtBB"
      },
      "outputs": [],
      "source": [
        "PI = 3.1416"
      ]
    },
    {
      "cell_type": "code",
      "execution_count": 89,
      "metadata": {
        "id": "sFe9d8k7RtUj"
      },
      "outputs": [],
      "source": [
        "mascotas = 0"
      ]
    },
    {
      "cell_type": "markdown",
      "metadata": {
        "id": "tZBN5IO_SoFr"
      },
      "source": [
        "Imprime los siguientes mensajes utilizando format de tal manera que el resultado sea parecido a lo siguiente:\n",
        "\n",
        "```bash\n",
        "La película que elegi es Harry Potter\n",
        "````\n",
        "\n",
        "```bash\n",
        "El valor de pi es 3.1416\n",
        "````\n",
        "\n",
        "```bash\n",
        "La cantidad de mascotas que tengo son 2\n",
        "````"
      ]
    },
    {
      "cell_type": "code",
      "execution_count": 10,
      "metadata": {
        "id": "EJfQXm6mSpGQ"
      },
      "outputs": [
        {
          "name": "stdout",
          "output_type": "stream",
          "text": [
            "La película que elegí es Star Wars\n"
          ]
        }
      ],
      "source": [
        "print(f\"La película que elegí es {pelicula}\")"
      ]
    },
    {
      "cell_type": "code",
      "execution_count": 5,
      "metadata": {
        "id": "VVVGZruXSpSg"
      },
      "outputs": [
        {
          "name": "stdout",
          "output_type": "stream",
          "text": [
            "El valor de PI es 3.1416\n"
          ]
        }
      ],
      "source": [
        "print(f\"El valor de PI es {PI}\")"
      ]
    },
    {
      "cell_type": "code",
      "execution_count": 6,
      "metadata": {
        "id": "ZvJiioi3SpjL"
      },
      "outputs": [
        {
          "name": "stdout",
          "output_type": "stream",
          "text": [
            "La cantidad de mascotas que tengo son 0\n"
          ]
        }
      ],
      "source": [
        "print(f\"La cantidad de mascotas que tengo son {mascotas}\")"
      ]
    },
    {
      "cell_type": "markdown",
      "metadata": {
        "id": "qff5RNf_Sxvy"
      },
      "source": [
        "Crea una tabla utilizando f strings donde salgan 3 empleos aleatorios, sus respectivos sueldos y el país donde radican."
      ]
    },
    {
      "cell_type": "code",
      "execution_count": 83,
      "metadata": {
        "id": "uX7iBO31Td2G"
      },
      "outputs": [],
      "source": [
        "empleos = ['programador', 'diseñador', 'ingeniero']\n",
        "sueldos = [1000, 2000, 3000]\n",
        "pais = ['Argentina', 'Brasil', 'Chile']"
      ]
    },
    {
      "cell_type": "code",
      "execution_count": 88,
      "metadata": {},
      "outputs": [
        {
          "name": "stdout",
          "output_type": "stream",
          "text": [
            "El programador trabaja en Argentina y tiene un sueldo de 1000\n",
            "El diseñador trabaja en Brasil y tiene un sueldo de 2000\n",
            "El ingeniero trabaja en Chile y tiene un sueldo de 3000\n"
          ]
        }
      ],
      "source": [
        "print(f\"El {empleos[0]} trabaja en {pais[0]} y tiene un sueldo de {sueldos[0]}\")\n",
        "print(f\"El {empleos[1]} trabaja en {pais[1]} y tiene un sueldo de {sueldos[1]}\")\n",
        "print(f\"El {empleos[2]} trabaja en {pais[2]} y tiene un sueldo de {sueldos[2]}\")"
      ]
    },
    {
      "cell_type": "markdown",
      "metadata": {
        "id": "yWqnOS4OQxQH"
      },
      "source": [
        "Desarrolla un programa donde pida 2 números y devuelva la suma, resta, multiplicación y división de los mismos."
      ]
    },
    {
      "cell_type": "code",
      "execution_count": 15,
      "metadata": {},
      "outputs": [],
      "source": [
        "numero1 = int(input(\"Dime un número: \"))"
      ]
    },
    {
      "cell_type": "code",
      "execution_count": 16,
      "metadata": {},
      "outputs": [],
      "source": [
        "numero2 = int(input(\"Dime otro número: \"))"
      ]
    },
    {
      "cell_type": "code",
      "execution_count": 17,
      "metadata": {},
      "outputs": [],
      "source": [
        "suma = numero1 + numero2\n",
        "resta = numero1 - numero2\n",
        "multiplicacion = numero1 * numero2\n",
        "division = numero1 / numero2"
      ]
    },
    {
      "cell_type": "code",
      "execution_count": 90,
      "metadata": {},
      "outputs": [
        {
          "name": "stdout",
          "output_type": "stream",
          "text": [
            "15 + 56 = 71\n",
            "15 - 56 = -41\n",
            "15 * 56 = 840\n",
            "15 / 56 = 0.26785714285714285\n"
          ]
        }
      ],
      "source": [
        "print(f\"{numero1} + {numero2} = {suma}\")\n",
        "print(f\"{numero1} - {numero2} = {resta}\")\n",
        "print(f\"{numero1} * {numero2} = {multiplicacion}\")\n",
        "print(f\"{numero1} / {numero2} = {division}\")"
      ]
    },
    {
      "cell_type": "markdown",
      "metadata": {
        "id": "n6_bQXdhT4l-"
      },
      "source": [
        "Crea una lista con 4 colores y despues ejecuta las siguientes lineas de código:"
      ]
    },
    {
      "cell_type": "code",
      "execution_count": 25,
      "metadata": {
        "id": "Zh8H7yfbT9iI"
      },
      "outputs": [],
      "source": [
        "colores = [\"rojo\", \"verde\", \"azul\", \"amarillo\"]"
      ]
    },
    {
      "cell_type": "code",
      "execution_count": 26,
      "metadata": {
        "id": "ook1SGxxT-1j"
      },
      "outputs": [
        {
          "name": "stdout",
          "output_type": "stream",
          "text": [
            "El color 0 es rojo\n",
            "El color 1 es verde\n",
            "El color 2 es azul\n",
            "El color 3 es amarillo\n"
          ]
        }
      ],
      "source": [
        "print(f\"El color 0 es {colores[0]}\")\n",
        "print(f\"El color 1 es {colores[1]}\")\n",
        "print(f\"El color 2 es {colores[2]}\")\n",
        "print(f\"El color 3 es {colores[3]}\")"
      ]
    },
    {
      "cell_type": "markdown",
      "metadata": {
        "id": "Nes2H1VBUOb-"
      },
      "source": [
        "Crea una lista con 4 ciudades y utilizando Slice, que aparezcan las 2 de enmedio"
      ]
    },
    {
      "cell_type": "code",
      "execution_count": 28,
      "metadata": {
        "id": "h9Lpky2pUVbu"
      },
      "outputs": [],
      "source": [
        "ciudades = [\"New York\", \"Monterrey\", \"Guadalajara\", \"CDMX\"]"
      ]
    },
    {
      "cell_type": "code",
      "execution_count": 29,
      "metadata": {},
      "outputs": [
        {
          "name": "stdout",
          "output_type": "stream",
          "text": [
            "['Monterrey', 'Guadalajara']\n"
          ]
        }
      ],
      "source": [
        "print(ciudades[1:3])"
      ]
    },
    {
      "cell_type": "markdown",
      "metadata": {
        "id": "KZRc8KrtUIXs"
      },
      "source": [
        "De nuestra lista de ciudades, imprime la ultima ciudad"
      ]
    },
    {
      "cell_type": "code",
      "execution_count": 30,
      "metadata": {
        "id": "w4Iu12l6UZc0"
      },
      "outputs": [
        {
          "name": "stdout",
          "output_type": "stream",
          "text": [
            "CDMX\n"
          ]
        }
      ],
      "source": [
        "print(ciudades[-1])"
      ]
    },
    {
      "cell_type": "markdown",
      "metadata": {
        "id": "tm1WmrjoWX9g"
      },
      "source": [
        "Agrega los siguientes datos a tu lista de colores: \"Morado\", \"Rosa\""
      ]
    },
    {
      "cell_type": "code",
      "execution_count": 31,
      "metadata": {
        "id": "59n7yhbRWgda"
      },
      "outputs": [],
      "source": [
        "colores.append(\"Morado\")"
      ]
    },
    {
      "cell_type": "code",
      "execution_count": 32,
      "metadata": {
        "id": "o6VX6k7HWg2r"
      },
      "outputs": [],
      "source": [
        "colores.append(\"Rosa\")"
      ]
    },
    {
      "cell_type": "code",
      "execution_count": 33,
      "metadata": {},
      "outputs": [
        {
          "name": "stdout",
          "output_type": "stream",
          "text": [
            "['rojo', 'verde', 'azul', 'amarillo', 'Morado', 'Rosa']\n"
          ]
        }
      ],
      "source": [
        "print(colores)"
      ]
    },
    {
      "cell_type": "markdown",
      "metadata": {
        "id": "raJtwSsMXObz"
      },
      "source": [
        "La siguiente lista contiene las alturas de 15 niños de cuarto grado, sacr el promedio de alturas."
      ]
    },
    {
      "cell_type": "code",
      "execution_count": 35,
      "metadata": {
        "id": "RBHJnt7RXVfn"
      },
      "outputs": [],
      "source": [
        "alturas = [1.35, 1.56, 1.42, 1.22, 1.37, 1.23, 1.40, 1.25, 1.22, 1.37, 1.30, 1.15, 1.24, 1.31, 1.17]"
      ]
    },
    {
      "cell_type": "code",
      "execution_count": 37,
      "metadata": {
        "id": "OMwiQWdPXs0D"
      },
      "outputs": [
        {
          "name": "stdout",
          "output_type": "stream",
          "text": [
            "1.304\n"
          ]
        }
      ],
      "source": [
        "promedio = sum(alturas) / len(alturas)\n",
        "print(promedio)"
      ]
    },
    {
      "cell_type": "markdown",
      "metadata": {
        "id": "gnmvV-6CXtFf"
      },
      "source": [
        "Obten la altura mas chica del grupo"
      ]
    },
    {
      "cell_type": "code",
      "execution_count": 38,
      "metadata": {
        "id": "6_vnauWrXxxw"
      },
      "outputs": [
        {
          "data": {
            "text/plain": [
              "1.15"
            ]
          },
          "execution_count": 38,
          "metadata": {},
          "output_type": "execute_result"
        }
      ],
      "source": [
        "min(alturas)"
      ]
    },
    {
      "cell_type": "markdown",
      "metadata": {
        "id": "QA4QhB1RXyIP"
      },
      "source": [
        "Obten la altura más alta del grupo"
      ]
    },
    {
      "cell_type": "code",
      "execution_count": 39,
      "metadata": {
        "id": "zaEh5073X0Ef"
      },
      "outputs": [
        {
          "data": {
            "text/plain": [
              "1.56"
            ]
          },
          "execution_count": 39,
          "metadata": {},
          "output_type": "execute_result"
        }
      ],
      "source": [
        "max(alturas)"
      ]
    },
    {
      "cell_type": "markdown",
      "metadata": {
        "id": "PEOwRkHPZP-h"
      },
      "source": [
        "Crea un diccionario de perros, donde lleva 2 claves: Nombre y Raza"
      ]
    },
    {
      "cell_type": "code",
      "execution_count": 76,
      "metadata": {
        "id": "NbaNatoIa3M8"
      },
      "outputs": [],
      "source": [
        "perro1 = {\n",
        "    \"Nombre\": \"Firulais\",\n",
        "    \"Raza\": \"Pastor Alemán\",\n",
        "}"
      ]
    },
    {
      "cell_type": "code",
      "execution_count": 77,
      "metadata": {
        "id": "x5K1wxDha3mu"
      },
      "outputs": [
        {
          "name": "stdout",
          "output_type": "stream",
          "text": [
            "{'Nombre': 'Firulais', 'Raza': 'Pastor Alemán'}\n"
          ]
        }
      ],
      "source": [
        "print(perro1)"
      ]
    },
    {
      "cell_type": "markdown",
      "metadata": {
        "id": "8uUUKwjxbBs9"
      },
      "source": [
        "Agrega una clave llamada Edad a nuestro diccionario y asignale un valor"
      ]
    },
    {
      "cell_type": "code",
      "execution_count": 78,
      "metadata": {
        "id": "fCCGf6WUbAWb"
      },
      "outputs": [],
      "source": [
        "perro1[\"Edad\"] = 3"
      ]
    },
    {
      "cell_type": "code",
      "execution_count": 79,
      "metadata": {},
      "outputs": [
        {
          "name": "stdout",
          "output_type": "stream",
          "text": [
            "{'Nombre': 'Firulais', 'Raza': 'Pastor Alemán', 'Edad': 3}\n"
          ]
        }
      ],
      "source": [
        "print(perro1)"
      ]
    },
    {
      "cell_type": "markdown",
      "metadata": {
        "id": "dlUIMAntbIer"
      },
      "source": [
        "Crea 2 diccionarios de perro más incluyendo el valor edad."
      ]
    },
    {
      "cell_type": "code",
      "execution_count": 72,
      "metadata": {
        "id": "1TgwcD9tbHDx"
      },
      "outputs": [],
      "source": [
        "# Crea 2 diccionarios de perro incluyendo nombre, raza y edad\n",
        "perro2 = {\n",
        "    \"Nombre\": \"Goofy\",\n",
        "    \"Raza\": \"Beagle\",\n",
        "    \"Edad\": 2\n",
        "}\n",
        "\n",
        "perro3 = {\n",
        "    \"Nombre\": \"Bruno\",\n",
        "    \"Raza\": \"Labrador\",\n",
        "    \"Edad\": 4\n",
        "}"
      ]
    },
    {
      "cell_type": "code",
      "execution_count": 73,
      "metadata": {
        "id": "ubSDomr3bOxp"
      },
      "outputs": [
        {
          "name": "stdout",
          "output_type": "stream",
          "text": [
            "{'Nombre': 'Goofy', 'Raza': 'Beagle', 'Edad': 2}\n",
            "{'Nombre': 'Bruno', 'Raza': 'Labrador', 'Edad': 4}\n"
          ]
        }
      ],
      "source": [
        "print(perro2)\n",
        "print(perro3)"
      ]
    },
    {
      "cell_type": "markdown",
      "metadata": {
        "id": "htGYP7tdbUQh"
      },
      "source": [
        "Crea una lista llamada mascotas y dentro de los corchetes, agrega los 3 diccionarios"
      ]
    },
    {
      "cell_type": "code",
      "execution_count": 81,
      "metadata": {
        "id": "nc2LaxGYbPDG"
      },
      "outputs": [],
      "source": [
        "# Crea una lista llamada \"mascotas\" agrega los diccionarios de perro a la lista\n",
        "mascotas = [perro1, perro2, perro3]"
      ]
    },
    {
      "cell_type": "code",
      "execution_count": 82,
      "metadata": {},
      "outputs": [
        {
          "name": "stdout",
          "output_type": "stream",
          "text": [
            "[{'Nombre': 'Firulais', 'Raza': 'Pastor Alemán', 'Edad': 3}, {'Nombre': 'Goofy', 'Raza': 'Beagle', 'Edad': 2}, {'Nombre': 'Bruno', 'Raza': 'Labrador', 'Edad': 4}]\n"
          ]
        }
      ],
      "source": [
        "print(mascotas)"
      ]
    }
  ],
  "metadata": {
    "colab": {
      "name": "reto-intro-python.ipynb",
      "provenance": []
    },
    "kernelspec": {
      "display_name": "Python 3",
      "name": "python3"
    },
    "language_info": {
      "codemirror_mode": {
        "name": "ipython",
        "version": 3
      },
      "file_extension": ".py",
      "mimetype": "text/x-python",
      "name": "python",
      "nbconvert_exporter": "python",
      "pygments_lexer": "ipython3",
      "version": "3.9.7"
    }
  },
  "nbformat": 4,
  "nbformat_minor": 0
}
