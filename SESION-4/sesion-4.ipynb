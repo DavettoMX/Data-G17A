{
 "cells": [
  {
   "cell_type": "markdown",
   "metadata": {},
   "source": [
    "# Programación Orientada a Objetos\n",
    "La programación orientada a objetos es una forma de programación que se basa en la creación de clases. Se define como un paradigma con el que podemos.\n",
    "\n",
    "1. Invocar la manera en que se consiguen los resultados.\n",
    "2. POO disminuye los errores y promociona la <b>reutilización de código</b>.\n",
    "3. Es una manera especial de programar. Es una forma de programar que se basa en la creación de clases."
   ]
  },
  {
   "cell_type": "markdown",
   "metadata": {},
   "source": [
    "#### Objetos\n",
    "Los objetos son instancias de clases.\n",
    "#### Métodos\t\n",
    "Los métodos son funciones que pertenecen a una clase. (comportamiento)\n",
    "#### Atributos\n",
    "Los atributos son variables que pertenecen a una clase. (propiedades)"
   ]
  },
  {
   "cell_type": "markdown",
   "metadata": {},
   "source": [
    "Los objetos se crean a partir de una plantilla llamada <b>clase</b>, cada objeto es una <b>instancia de esta clase</b>."
   ]
  },
  {
   "cell_type": "markdown",
   "metadata": {},
   "source": [
    "## Ejemplo"
   ]
  },
  {
   "cell_type": "code",
   "execution_count": 8,
   "metadata": {},
   "outputs": [],
   "source": [
    "class Perro:\n",
    "    def __init__(self, nombre, edad, raza):\n",
    "        self.nombre = nombre\n",
    "        self.edad = edad\n",
    "        self.raza = raza\n",
    "\n",
    "    def ladrar(self):\n",
    "        print(\"Woof!\")"
   ]
  },
  {
   "cell_type": "code",
   "execution_count": 10,
   "metadata": {},
   "outputs": [],
   "source": [
    "Perro1 = Perro(\"Fido\", 3, \"Pastor Aleman\")\n",
    "Perro2 = Perro(\"Pepe\", 5, \"Labrador\")\n",
    "Perro3 = Perro(\"Paco\", 1, \"Galgo\")"
   ]
  },
  {
   "cell_type": "code",
   "execution_count": 11,
   "metadata": {},
   "outputs": [
    {
     "name": "stdout",
     "output_type": "stream",
     "text": [
      "Woof!\n"
     ]
    }
   ],
   "source": [
    "Perro1.ladrar()"
   ]
  },
  {
   "cell_type": "code",
   "execution_count": 36,
   "metadata": {},
   "outputs": [],
   "source": [
    "class Auto:\n",
    "    def __init__(self, marca, modelo, color, convertible, gas_o_electrico):\n",
    "        self.marca = marca\n",
    "        self.modelo = modelo\n",
    "        self.color = color\n",
    "        self.convertible = convertible\n",
    "        self.gas_o_electrico = gas_o_electrico\n",
    "\n",
    "    def acelerar(self):\n",
    "        print(\"Acelerando...\")\n",
    "\n",
    "    def frenar(self):\n",
    "        print(\"Frenando...\")"
   ]
  },
  {
   "cell_type": "code",
   "execution_count": 37,
   "metadata": {},
   "outputs": [],
   "source": [
    "Auto1 = Auto(\"Tesla\", \"Model S\", \"Rojo\", True, \"Electrico\")"
   ]
  },
  {
   "cell_type": "code",
   "execution_count": 38,
   "metadata": {},
   "outputs": [
    {
     "name": "stdout",
     "output_type": "stream",
     "text": [
      "Frenando...\n"
     ]
    }
   ],
   "source": [
    "Auto1.frenar()"
   ]
  },
  {
   "cell_type": "code",
   "execution_count": 43,
   "metadata": {},
   "outputs": [],
   "source": [
    "class Connection:\n",
    "    def __init__(self, user, password):\n",
    "        self.user = user\n",
    "        self.password = password\n",
    "\n",
    "    def log_in(self):\n",
    "        if self.user == \"admin\" and self.password == \"12345678\":\n",
    "            print(\"Login correcto\")\n",
    "        else:\n",
    "            print(\"Login incorrecto\")"
   ]
  },
  {
   "cell_type": "code",
   "execution_count": 44,
   "metadata": {},
   "outputs": [],
   "source": [
    "connection1 = Connection(\"admin\", \"12345678\")"
   ]
  },
  {
   "cell_type": "code",
   "execution_count": 45,
   "metadata": {},
   "outputs": [
    {
     "name": "stdout",
     "output_type": "stream",
     "text": [
      "Login correcto\n"
     ]
    }
   ],
   "source": [
    "connection1.log_in()"
   ]
  },
  {
   "cell_type": "markdown",
   "metadata": {},
   "source": [
    "## Herencia\n",
    "Es cuando el objeto padre hereda atributos y métodos a un objeto hijo."
   ]
  },
  {
   "cell_type": "code",
   "execution_count": 46,
   "metadata": {},
   "outputs": [],
   "source": [
    "class Padre:\n",
    "    def __init__(self, nombre, apellido):\n",
    "        self.nombre = nombre\n",
    "        self.apellido = apellido\n",
    "\n",
    "    def saludar(self):\n",
    "        print(\"Hola, soy\", self.nombre, self.apellido)"
   ]
  },
  {
   "cell_type": "code",
   "execution_count": 53,
   "metadata": {},
   "outputs": [],
   "source": [
    "class Hijo(Padre):\n",
    "    pass"
   ]
  },
  {
   "cell_type": "code",
   "execution_count": 54,
   "metadata": {},
   "outputs": [
    {
     "name": "stdout",
     "output_type": "stream",
     "text": [
      "Hola, soy Juan Perez\n"
     ]
    }
   ],
   "source": [
    "padre1 = Padre(\"Juan\", \"Perez\")\n",
    "padre1.saludar()"
   ]
  },
  {
   "cell_type": "code",
   "execution_count": 55,
   "metadata": {},
   "outputs": [
    {
     "name": "stdout",
     "output_type": "stream",
     "text": [
      "Hola, soy Pedro Perez\n"
     ]
    }
   ],
   "source": [
    "hijo1 = Hijo(\"Pedro\", \"Perez\")\n",
    "hijo1.saludar()"
   ]
  }
 ],
 "metadata": {
  "interpreter": {
   "hash": "88279d2366fe020547cde40dd65aa0e3aa662a6ec1f3ca12d88834876c85e1a6"
  },
  "kernelspec": {
   "display_name": "Python 3.9.7 ('base')",
   "language": "python",
   "name": "python3"
  },
  "language_info": {
   "codemirror_mode": {
    "name": "ipython",
    "version": 3
   },
   "file_extension": ".py",
   "mimetype": "text/x-python",
   "name": "python",
   "nbconvert_exporter": "python",
   "pygments_lexer": "ipython3",
   "version": "3.9.7"
  },
  "orig_nbformat": 4
 },
 "nbformat": 4,
 "nbformat_minor": 2
}
