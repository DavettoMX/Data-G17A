{
  "cells": [
    {
      "cell_type": "markdown",
      "metadata": {
        "id": "4EFGoEpOl5J9"
      },
      "source": [
        "##Ejercicio 1\n",
        "Realizar un programa que conste de una clase llamada Alumno que tenga como atributos el nombre y la nota del alumno. Definir los métodos para inicializar sus atributos, imprimirlos y mostrar un mensaje con el resultado de la nota y si ha aprobado o no.\n"
      ]
    },
    {
      "cell_type": "code",
      "execution_count": 2,
      "metadata": {
        "id": "P9ullKnYnFfF"
      },
      "outputs": [],
      "source": [
        "class Alumno:\n",
        "    def __init__(self, nombre, notas):\n",
        "        self.nombre = nombre\n",
        "        self.notas = notas\n",
        "\n",
        "    def mostrar_resultado(self):\n",
        "        media = sum(self.notas) / len(self.notas)\n",
        "        if media >= 6:\n",
        "            print(f\"{self.nombre} ha aprobado con una media de {media}\")\n",
        "        else:\n",
        "            print(f\"{self.nombre} ha suspendido con una media de {media}\")"
      ]
    },
    {
      "cell_type": "code",
      "execution_count": 3,
      "metadata": {},
      "outputs": [
        {
          "name": "stdout",
          "output_type": "stream",
          "text": [
            "Juan ha aprobado con una media de 7.0\n"
          ]
        }
      ],
      "source": [
        "alumno1 = Alumno(\"Juan\", [5, 6, 7, 8, 9])\n",
        "alumno1.mostrar_resultado()"
      ]
    },
    {
      "cell_type": "markdown",
      "metadata": {
        "id": "b_bGLJVvmDb5"
      },
      "source": [
        "##Ejercicio 2\n",
        "Realizar un programa que tenga una clase Persona con las siguientes características. La clase tendrá como atributos el nombre y la edad de una persona. Implementar los métodos necesarios para inicializar los atributos, mostrar los datos e indicar si la persona es mayor de edad o no.\n"
      ]
    },
    {
      "cell_type": "code",
      "execution_count": 7,
      "metadata": {
        "id": "t_Kbaj2EnF9N"
      },
      "outputs": [],
      "source": [
        "class Persona:\n",
        "    def __init__(self, nombre, edad):\n",
        "        self.nombre = nombre\n",
        "        self.edad = edad\n",
        "\n",
        "    def mostrar_edad(self):\n",
        "        print(f\"{self.nombre} tiene {self.edad} años\")\n",
        "        if self.edad > 18:\n",
        "            print(f\"{self.nombre} Es mayor de edad\")\n",
        "        else:\n",
        "            print(f\"{self.nombre} Es menor de edad\")"
      ]
    },
    {
      "cell_type": "code",
      "execution_count": 8,
      "metadata": {},
      "outputs": [
        {
          "name": "stdout",
          "output_type": "stream",
          "text": [
            "Juan tiene 20 años\n",
            "Juan Es mayor de edad\n"
          ]
        }
      ],
      "source": [
        "persona1 = Persona(\"Juan\", 20)\n",
        "persona1.mostrar_edad()"
      ]
    },
    {
      "cell_type": "markdown",
      "metadata": {
        "id": "Esf21Be0mTBn"
      },
      "source": [
        "##Ejercicio 3\n",
        "Desarrollar un programa que cargue los datos de un triángulo. Implementar una clase con los métodos para inicializar los atributos, imprimir el valor del lado con un tamaño mayor y  el tipo de triángulo que es (equilátero, isósceles o escaleno).\n"
      ]
    },
    {
      "cell_type": "code",
      "execution_count": 52,
      "metadata": {
        "id": "sPqi1jqCnGfD"
      },
      "outputs": [],
      "source": [
        "class Triangulo:\n",
        "    def __init__(self, lado1, lado2, lado3):\n",
        "        self.lado1 = lado1\n",
        "        self.lado2 = lado2\n",
        "        self.lado3 = lado3\n",
        "\n",
        "    def lado_mayor(self):\n",
        "        if self.lado1 == self.lado2 and self.lado1 == self.lado3:\n",
        "            return f\"Los tres lados son iguales\"\n",
        "        else:\n",
        "            return max(self.lado1, self.lado2, self.lado3)\n",
        "\n",
        "    def tipo_triangulo(self):\n",
        "        if self.lado1 == self.lado2 and self.lado1 == self.lado3:\n",
        "            return \"Equilatero\"\n",
        "        elif self.lado1 == self.lado2 or self.lado1 == self.lado3 or self.lado2 == self.lado3:\n",
        "            return \"Isosceles\"\n",
        "        else:\n",
        "            return \"Escaleno\""
      ]
    },
    {
      "cell_type": "code",
      "execution_count": 61,
      "metadata": {},
      "outputs": [
        {
          "name": "stdout",
          "output_type": "stream",
          "text": [
            "El lado mayor es 80 y es de tipo Escaleno\n"
          ]
        }
      ],
      "source": [
        "Triangulo1 = Triangulo(40, 80, 70)\n",
        "print(f\"El lado mayor es {Triangulo1.lado_mayor()} y es de tipo {Triangulo1.tipo_triangulo()}\")"
      ]
    },
    {
      "cell_type": "markdown",
      "metadata": {
        "id": "FuDVAwyLmXM_"
      },
      "source": [
        "##Ejercicio 4\n",
        "Realizar un programa en el cual se declaren dos valores enteros por teclado utilizando el método __init__. Calcular después la suma, resta, multiplicación y división. Utilizar un método para cada una e imprimir los resultados obtenidos. Llamar a la clase Calculadora."
      ]
    },
    {
      "cell_type": "code",
      "execution_count": 55,
      "metadata": {
        "id": "VnFcFidTnG-O"
      },
      "outputs": [],
      "source": [
        "class Calculadora:\n",
        "    def __init__(self, numero1, numero2):\n",
        "        self.numero1 = numero1\n",
        "        self.numero2 = numero2\n",
        "\n",
        "    def suma(self):\n",
        "        return self.numero1 + self.numero2\n",
        "\n",
        "    def resta(self):\n",
        "        return self.numero1 - self.numero2\n",
        "\n",
        "    def multiplicacion(self):\n",
        "        return self.numero1 * self.numero2\n",
        "\n",
        "    def division(self):\n",
        "        return self.numero1 / self.numero2"
      ]
    },
    {
      "cell_type": "code",
      "execution_count": 56,
      "metadata": {},
      "outputs": [],
      "source": [
        "calc = Calculadora(10, 5)"
      ]
    },
    {
      "cell_type": "code",
      "execution_count": 57,
      "metadata": {},
      "outputs": [
        {
          "data": {
            "text/plain": [
              "15"
            ]
          },
          "execution_count": 57,
          "metadata": {},
          "output_type": "execute_result"
        }
      ],
      "source": [
        "calc.suma()"
      ]
    },
    {
      "cell_type": "code",
      "execution_count": 58,
      "metadata": {},
      "outputs": [
        {
          "data": {
            "text/plain": [
              "5"
            ]
          },
          "execution_count": 58,
          "metadata": {},
          "output_type": "execute_result"
        }
      ],
      "source": [
        "calc.resta()"
      ]
    },
    {
      "cell_type": "code",
      "execution_count": 59,
      "metadata": {},
      "outputs": [
        {
          "data": {
            "text/plain": [
              "50"
            ]
          },
          "execution_count": 59,
          "metadata": {},
          "output_type": "execute_result"
        }
      ],
      "source": [
        "calc.multiplicacion()"
      ]
    },
    {
      "cell_type": "code",
      "execution_count": 60,
      "metadata": {},
      "outputs": [
        {
          "data": {
            "text/plain": [
              "2.0"
            ]
          },
          "execution_count": 60,
          "metadata": {},
          "output_type": "execute_result"
        }
      ],
      "source": [
        "calc.division()"
      ]
    },
    {
      "cell_type": "markdown",
      "metadata": {
        "id": "NmarrIA6mdo5"
      },
      "source": [
        "##Ejercicio 5\n",
        "Realizar una clase que administre una agenda. Se debe almacenar para cada contacto el nombre, el teléfono y el email. Además deberá mostrar un menú con las siguientes opciones\n",
        "\n",
        "\n",
        "\n",
        "*   Añadir contacto\n",
        "*   Lista de contactos\n",
        "*   Buscar contacto\n",
        "*   Editar contacto\n",
        "*   Cerrar agenda"
      ]
    },
    {
      "cell_type": "code",
      "execution_count": 102,
      "metadata": {
        "id": "hvhudvVInHpR"
      },
      "outputs": [],
      "source": [
        "class Agenda:\n",
        "    directorio = []\n",
        "\n",
        "    def __init__(self, nombre, telefono, email):\n",
        "        self.nombre = nombre\n",
        "        self.telefono = telefono\n",
        "        self.email = email\n",
        "\n",
        "    def Menu(self):\n",
        "        print(\"1. Añadir contacto\")\n",
        "        print(\"2. Lista de contactos\")\n",
        "        print(\"3. Buscar contacto\")\n",
        "        print(\"4. Editar contacto\")\n",
        "        print(\"5. Cerrar Agenda\")\n",
        "\n",
        "    def Buscar(self):\n",
        "        print(\"1. Buscar por nombre\")\n",
        "        print(\"2. Buscar por telefono\")\n",
        "        print(\"3. Buscar por email\")\n",
        "        print(\"4. Volver al menu\")\n",
        "\n",
        "    def editar_contacto(self):\n",
        "        print(\"1. Editar nombre\")\n",
        "        print(\"2. Editar telefono\")\n",
        "        print(\"3. Editar email\")\n",
        "\n",
        "    def añadir_contacto(self):\n",
        "        nombre = input(\"Introduce el nombre: \")\n",
        "        telefono = input(\"Introduce el telefono: \")\n",
        "        email = input(\"Introduce el email: \")\n",
        "        self.directorio.append(Agenda(nombre, telefono, email))\n",
        "\n",
        "    def lista_contactos(self):\n",
        "        for contacto in self.directorio:\n",
        "            print(\"-----------------------------------------------------\")\n",
        "            print(f\"Nombre: {contacto.nombre}\")\n",
        "            print(f\"Telefono: {contacto.telefono}\")\n",
        "            print(f\"Email: {contacto.email}\")\n",
        "            print(\"-----------------------------------------------------\")\n",
        "\n",
        "    def buscar_contacto(self):\n",
        "        self.Buscar()\n",
        "        opcion = int(input(\"Introduce la opcion: \"))\n",
        "        if opcion == 1:\n",
        "            nombre = input(\"Introduce el nombre: \")\n",
        "            for contacto in self.directorio:\n",
        "                if contacto.nombre == nombre:\n",
        "                    print(\"-----------------------------------------------------\")\n",
        "                    print(f\"Nombre: {contacto.nombre}\")\n",
        "                    print(f\"Telefono: {contacto.telefono}\")\n",
        "                    print(f\"Email: {contacto.email}\")\n",
        "                    print(\"-----------------------------------------------------\")\n",
        "        elif opcion == 2:\n",
        "            telefono = input(\"Introduce el telefono: \")\n",
        "            for contacto in self.directorio:\n",
        "                if contacto.telefono == telefono:\n",
        "                    print(\"-----------------------------------------------------\")\n",
        "                    print(f\"Nombre: {contacto.nombre}\")\n",
        "                    print(f\"Telefono: {contacto.telefono}\")\n",
        "                    print(f\"Email: {contacto.email}\")\n",
        "                    print(\"-----------------------------------------------------\")\n",
        "        elif opcion == 3:\n",
        "            email = input(\"Introduce el email: \")\n",
        "            for contacto in self.directorio:\n",
        "                if contacto.email == email:\n",
        "                    print(\"-----------------------------------------------------\")\n",
        "                    print(f\"Nombre: {contacto.nombre}\")\n",
        "                    print(f\"Telefono: {contacto.telefono}\")\n",
        "                    print(f\"Email: {contacto.email}\")\n",
        "                    print(\"-----------------------------------------------------\")\n",
        "        elif opcion == 4:\n",
        "            self.Menu()\n",
        "        else:\n",
        "            return \"Opcion no valida\"\n",
        "\n",
        "    def editar_contacto(self):\n",
        "        self.Buscar()\n",
        "        opcion = int(input(\"Introduce la opcion: \"))\n",
        "        if opcion == 1:\n",
        "            nombre = input(\"Introduce el nombre: \")\n",
        "            for contacto in self.directorio:\n",
        "                if contacto.nombre == nombre:\n",
        "                    print(\"-----------------------------------------------------\")\n",
        "                    print(f\"Nombre: {contacto.nombre}\")\n",
        "                    print(f\"Telefono: {contacto.telefono}\")\n",
        "                    print(f\"Email: {contacto.email}\")\n",
        "                    print(\"-----------------------------------------------------\")\n",
        "\n",
        "                    nombre = input(\"Introduce el nuevo nombre: \")\n",
        "                    contacto.nombre = nombre\n",
        "        elif opcion == 2:\n",
        "            telefono = input(\"Introduce el telefono: \")\n",
        "            for contacto in self.directorio:\n",
        "                if contacto.telefono == telefono:\n",
        "                    print(\"-----------------------------------------------------\")\n",
        "                    print(f\"Nombre: {contacto.nombre}\")\n",
        "                    print(f\"Telefono: {contacto.telefono}\")\n",
        "                    print(f\"Email: {contacto.email}\")\n",
        "                    print(\"-----------------------------------------------------\")\n",
        "\n",
        "                    telefono = input(\"Introduce el nuevo telefono: \")\n",
        "                    contacto.telefono = telefono\n",
        "        elif opcion == 3:\n",
        "            email = input(\"Introduce el email: \")\n",
        "            for contacto in self.directorio:\n",
        "                if contacto.email == email:\n",
        "                    print(\"-----------------------------------------------------\")\n",
        "                    print(f\"Nombre: {contacto.nombre}\")\n",
        "                    print(f\"Telefono: {contacto.telefono}\")\n",
        "                    print(f\"Email: {contacto.email}\")\n",
        "                    print(\"-----------------------------------------------------\")\n",
        "\n",
        "                    email = input(\"Introduce el nuevo email: \")\n",
        "                    contacto.email = email\n",
        "        elif opcion == 4:\n",
        "            self.Menu()\n",
        "\n",
        "    def cerrar_agenda(self):\n",
        "        print(\"Gracias por usar la agenda\")\n",
        "        exit()"
      ]
    },
    {
      "cell_type": "code",
      "execution_count": 103,
      "metadata": {},
      "outputs": [],
      "source": [
        "AgendaPersonal = Agenda(\"\", \"\", \"\")"
      ]
    },
    {
      "cell_type": "code",
      "execution_count": 104,
      "metadata": {},
      "outputs": [],
      "source": [
        "AgendaPersonal.añadir_contacto()\n",
        "AgendaPersonal.añadir_contacto()\n",
        "AgendaPersonal.añadir_contacto()"
      ]
    },
    {
      "cell_type": "code",
      "execution_count": 105,
      "metadata": {},
      "outputs": [
        {
          "name": "stdout",
          "output_type": "stream",
          "text": [
            "-----------------------------------------------------\n",
            "Nombre: Arelis Reyes\n",
            "Telefono: +525512345678\n",
            "Email: arelis@correo.com\n",
            "-----------------------------------------------------\n",
            "-----------------------------------------------------\n",
            "Nombre: Joshue Garcia\n",
            "Telefono: +525587654321\n",
            "Email: joshue@correo.com\n",
            "-----------------------------------------------------\n",
            "-----------------------------------------------------\n",
            "Nombre: Aleida Perez\n",
            "Telefono: +525574136824\n",
            "Email: aleida@correo.com\n",
            "-----------------------------------------------------\n"
          ]
        }
      ],
      "source": [
        "AgendaPersonal.lista_contactos()"
      ]
    },
    {
      "cell_type": "code",
      "execution_count": 106,
      "metadata": {},
      "outputs": [
        {
          "name": "stdout",
          "output_type": "stream",
          "text": [
            "1. Buscar por nombre\n",
            "2. Buscar por telefono\n",
            "3. Buscar por email\n",
            "4. Volver al menu\n"
          ]
        }
      ],
      "source": [
        "AgendaPersonal.buscar_contacto()"
      ]
    },
    {
      "cell_type": "code",
      "execution_count": 108,
      "metadata": {},
      "outputs": [
        {
          "name": "stdout",
          "output_type": "stream",
          "text": [
            "1. Buscar por nombre\n",
            "2. Buscar por telefono\n",
            "3. Buscar por email\n",
            "4. Volver al menu\n",
            "-----------------------------------------------------\n",
            "Nombre: Arelis Reyes\n",
            "Telefono: +525512345678\n",
            "Email: arelis@correo.com\n",
            "-----------------------------------------------------\n"
          ]
        }
      ],
      "source": [
        "AgendaPersonal.editar_contacto() # Se edito el correo"
      ]
    },
    {
      "cell_type": "code",
      "execution_count": 109,
      "metadata": {},
      "outputs": [
        {
          "name": "stdout",
          "output_type": "stream",
          "text": [
            "-----------------------------------------------------\n",
            "Nombre: Arelis Reyes\n",
            "Telefono: +525512345678\n",
            "Email: arelisreyes@correo.com\n",
            "-----------------------------------------------------\n",
            "-----------------------------------------------------\n",
            "Nombre: Joshue Garcia\n",
            "Telefono: +525587654321\n",
            "Email: joshue@correo.com\n",
            "-----------------------------------------------------\n",
            "-----------------------------------------------------\n",
            "Nombre: Aleida Perez\n",
            "Telefono: +525574136824\n",
            "Email: aleida@correo.com\n",
            "-----------------------------------------------------\n"
          ]
        }
      ],
      "source": [
        "AgendaPersonal.lista_contactos()"
      ]
    },
    {
      "cell_type": "markdown",
      "metadata": {
        "id": "pIFlDlAnmyyh"
      },
      "source": [
        "##Ejercicio 6\n",
        "En un banco tienen clientes que pueden hacer depósitos y extracciones de dinero. El banco requiere también al final del día calcular la cantidad de dinero que se ha depositado.\n",
        "\n",
        "Se deberán crear dos clases, la clase cliente y la clase banco. La clase cliente tendrá los atributos nombre y cantidad y los métodos __init__, depositar, extraer, mostrar_total.\n",
        "\n",
        "La clase banco tendrá como atributos 3 objetos de la clase cliente y los métodos __init__, operar y deposito_total."
      ]
    },
    {
      "cell_type": "code",
      "execution_count": null,
      "metadata": {
        "id": "7gjXBfvCnIQJ"
      },
      "outputs": [],
      "source": []
    },
    {
      "cell_type": "markdown",
      "metadata": {
        "id": "B7ZTRLdum2NG"
      },
      "source": [
        "##Ejercicio 7\n",
        "Desarrollar un programa que conste de una clase padre Cuenta y dos subclases PlazoFijo y CajaAhorro. Definir los atributos titular y cantidad y un método para imprimir los datos en la clase Cuenta. La clase CajaAhorro tendrá un método para heredar los datos y uno para mostrar la información.\n",
        "\n",
        "La clase PlazoFijo tendrá dos atributos propios, plazo e interés. Tendrá un método para obtener el importe del interés (cantidad*interés/100) y otro método para mostrar la información, datos del titular plazo, interés y total de interés.\n",
        "\n",
        "Crear al menos un objeto de cada subclase.\n",
        "\n"
      ]
    },
    {
      "cell_type": "code",
      "execution_count": null,
      "metadata": {
        "id": "F2wvhFNYnI2Z"
      },
      "outputs": [],
      "source": []
    }
  ],
  "metadata": {
    "colab": {
      "name": "Challenge POO.ipynb",
      "provenance": []
    },
    "interpreter": {
      "hash": "88279d2366fe020547cde40dd65aa0e3aa662a6ec1f3ca12d88834876c85e1a6"
    },
    "kernelspec": {
      "display_name": "Python 3.9.7 ('base')",
      "language": "python",
      "name": "python3"
    },
    "language_info": {
      "codemirror_mode": {
        "name": "ipython",
        "version": 3
      },
      "file_extension": ".py",
      "mimetype": "text/x-python",
      "name": "python",
      "nbconvert_exporter": "python",
      "pygments_lexer": "ipython3",
      "version": "3.9.7"
    }
  },
  "nbformat": 4,
  "nbformat_minor": 0
}
